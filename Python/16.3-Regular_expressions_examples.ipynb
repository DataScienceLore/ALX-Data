{
 "cells": [
  {
   "cell_type": "markdown",
   "id": "74ddc57b",
   "metadata": {},
   "source": [
    "<div align=\"center\" style=\" font-size: 80%; text-align: center; margin: 0 auto\">\n",
    "<img src=\"https://raw.githubusercontent.com/Explore-AI/Pictures/master/Python-Notebook-Banners/Examples.png\"  style=\"display: block; margin-left: auto; margin-right: auto;\";/>\n",
    "</div>"
   ]
  },
  {
   "cell_type": "markdown",
   "id": "f662d169",
   "metadata": {},
   "source": [
    "# Examples: Regular expressions\n",
    "© ExploreAI Academy"
   ]
  },
  {
   "cell_type": "markdown",
   "id": "26af890c",
   "metadata": {},
   "source": [
    "In this notebook, we look at how to use the `re` library in Python and apply some of the functionality to easily extract the data we're interested in. We also look at the `re.compile` function – creating compiled objects for specific regex functions."
   ]
  },
  {
   "cell_type": "markdown",
   "id": "2d230d14",
   "metadata": {
    "tags": []
   },
   "source": [
    "## Learning objectives\n",
    "\n",
    "By the end of this notebook, you should be able to:\n",
    "- Understand how to use regex to extract data we're interested in.\n",
    "- Apply regex to both compiled objects and normal text."
   ]
  },
  {
   "cell_type": "markdown",
   "id": "661bad04",
   "metadata": {},
   "source": [
    "## Examples"
   ]
  },
  {
   "cell_type": "markdown",
   "id": "42dba616",
   "metadata": {},
   "source": [
    "### Example 1\n",
    "\n",
    "#### Question \n",
    "Given a paragraph about conservation efforts, split the text into individual sentences using regular expressions.\n",
    "\n",
    "#### Solution"
   ]
  },
  {
   "cell_type": "code",
   "execution_count": null,
   "id": "62341cd8",
   "metadata": {},
   "outputs": [],
   "source": [
    "import re\n",
    "\n",
    "text = \"Conservation efforts are increasing. Habitats are being restored. Species are recovering.\"\n",
    "sentences = re.split(r\"\\. \", text)\n",
    "\n",
    "print(sentences)"
   ]
  },
  {
   "cell_type": "markdown",
   "id": "1a2075e6",
   "metadata": {},
   "source": [
    "#### Explanation\n",
    "This code uses `re.split` to split a paragraph into sentences based on the period followed by a space. This is a simple use case of `re.split`, demonstrating its effectiveness in text segmentation."
   ]
  },
  {
   "cell_type": "markdown",
   "id": "f5363a1c",
   "metadata": {},
   "source": [
    "### Example 2\n",
    "\n",
    "#### Question \n",
    "Extract all numbers followed by \"acres\" to find references to land area in a text. Utilise `re.compile` to create a regex pattern that matches this format.\n",
    "\n",
    "#### Solution"
   ]
  },
  {
   "cell_type": "code",
   "execution_count": null,
   "id": "636046ab",
   "metadata": {},
   "outputs": [],
   "source": [
    "import re\n",
    "\n",
    "text = \"The national park covers 5000 acres, while the community forest spans 750 acres.\"\n",
    "\n",
    "# Compiling the regex pattern\n",
    "pattern = re.compile(r'\\d+\\s*acres', re.IGNORECASE)\n",
    "\n",
    "# Finding all occurrences of land area\n",
    "land_areas = pattern.findall(text)\n",
    "\n",
    "print(land_areas)"
   ]
  },
  {
   "cell_type": "markdown",
   "id": "99d6c4f0",
   "metadata": {},
   "source": [
    "#### Explanation\n",
    "This solution uses a compiled regex pattern to efficiently find numerical values followed by \"acres\". The regex `\\d+\\s*acres` looks for one or more digits `(\\d+)` followed by zero or more spaces `(\\s*)` and the word \"acres\". The `re.IGNORECASE` flag ensures that variations in the capitalisation of \"acres\" are also matched."
   ]
  },
  {
   "cell_type": "markdown",
   "id": "7d892fee",
   "metadata": {},
   "source": [
    "### Example 3\n",
    "\n",
    "#### Question \n",
    "Given a text with various animal and plant species names formatted as 'Genus Species', compile a regex object to find all occurrences of these species' names in the text.\n",
    "\n",
    "#### Solution"
   ]
  },
  {
   "cell_type": "code",
   "execution_count": null,
   "id": "6477dc99",
   "metadata": {},
   "outputs": [],
   "source": [
    "import re\n",
    "\n",
    "pattern = re.compile(r'\\b[A-Z][a-z]* [a-z]+\\b')\n",
    "text = \"In the Amazon rainforest, species like Panthera onca, Inia geoffrensis, and Euterpe precatoria are found.\"\n",
    "\n",
    "species = pattern.findall(text)\n",
    "print(species)"
   ]
  },
  {
   "cell_type": "markdown",
   "id": "43115101",
   "metadata": {},
   "source": [
    "#### Explanation\n",
    "The script compiles a regex pattern using `re.compile`, which is then used to find all matches in the given text. The regex `\\b[A-Z][a-z]* [a-z]+\\b` is designed to match words that start with a capital letter (indicative of a genus name in biological nomenclature) followed by lowercase letters, a space, and then a series of lowercase letters (representing the species name). \n",
    "\n",
    "While this pattern is typically representative of scientific names for species, it's important to note that it may not exclusively capture viable species names. This limitation arises because the pattern does not account for the complexities and exceptions found in biological nomenclature, such as species names with hyphens, Latin abbreviations, or those comprising more than two words. Additionally, the pattern might inadvertently match other text that coincidentally follows the same format but does not represent actual species names. Therefore, while this regex can be a powerful tool for preliminary data extraction, further verification and refinement may be necessary to ensure the accuracy and relevance of the extracted data, especially for scientific or research purposes."
   ]
  },
  {
   "cell_type": "markdown",
   "id": "1d4f8974",
   "metadata": {},
   "source": [
    "### Example 4\n",
    "\n",
    "#### Question \n",
    "Given a text containing different plant names related to sustainable land management, extract all occurrences of specific plants. The names to extract are \"oak\", \"maple\", and \"pine\". Use `re.compile` to optimise the pattern matching.\n",
    "\n",
    "#### Solution"
   ]
  },
  {
   "cell_type": "code",
   "execution_count": null,
   "id": "ed0b4be6",
   "metadata": {},
   "outputs": [],
   "source": [
    "import re\n",
    "\n",
    "text = \"The forest had a variety of trees including oak, maple, and pine. Other species included birch and spruce.\"\n",
    "\n",
    "# Compiling the regex pattern\n",
    "pattern = re.compile(r'\\boak\\b|\\bmaple\\b|\\bpine\\b', re.IGNORECASE)\n",
    "\n",
    "# Finding all occurrences of the specified plants\n",
    "found_plants = pattern.findall(text)\n",
    "\n",
    "print(found_plants)\n"
   ]
  },
  {
   "cell_type": "markdown",
   "id": "e2226404",
   "metadata": {},
   "source": [
    "#### Explanation\n",
    "This code uses `re.compile` to create a compiled regex object for efficient matching. \n",
    "* When working with regex in Python, compiling a regex pattern into a regex object can enhance performance, especially when the pattern is used multiple times. This approach is more efficient because the regex engine converts the pattern string into an internal format optimised for repeated searches. This is particularly useful in scenarios like parsing large texts or processing multiple strings using the same pattern, as it avoids the overhead of recompiling the pattern for each use.\n",
    "\n",
    "The regex pattern `\\boak\\b|\\bmaple\\b|\\bpine\\b` uses word boundaries `(\\b)` to match whole words and `|` as an `OR` operator to match any of the specified plant names. The `re.IGNORECASE` flag makes the search case insensitive."
   ]
  },
  {
   "cell_type": "markdown",
   "id": "26fd094b-0fee-46f1-a4b8-73766813c42b",
   "metadata": {
    "tags": []
   },
   "source": [
    "#  \n",
    "\n",
    "<div align=\"center\" style=\" font-size: 80%; text-align: center; margin: 0 auto\">\n",
    "<img src=\"https://raw.githubusercontent.com/Explore-AI/Pictures/master/ExploreAI_logos/EAI_Blue_Dark.png\"  style=\"width:200px\";/>\n",
    "</div>"
   ]
  }
 ],
 "metadata": {
  "kernelspec": {
   "display_name": "Python 3 (ipykernel)",
   "language": "python",
   "name": "python3"
  },
  "language_info": {
   "codemirror_mode": {
    "name": "ipython",
    "version": 3
   },
   "file_extension": ".py",
   "mimetype": "text/x-python",
   "name": "python",
   "nbconvert_exporter": "python",
   "pygments_lexer": "ipython3",
   "version": "3.11.7"
  }
 },
 "nbformat": 4,
 "nbformat_minor": 5
}
